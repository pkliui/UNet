{
 "cells": [
  {
   "cell_type": "code",
   "execution_count": 8,
   "id": "3e01cbbf",
   "metadata": {},
   "outputs": [
    {
     "name": "stdout",
     "output_type": "stream",
     "text": [
      "The autoreload extension is already loaded. To reload it, use:\n",
      "  %reload_ext autoreload\n"
     ]
    }
   ],
   "source": [
    "#import packages\n",
    "import sys\n",
    "import glob, os\n",
    "\n",
    "import torch.nn as nn\n",
    "import torch.optim as optim\n",
    "\n",
    "# set source path\n",
    "codepath = os.path.abspath(\"/Users/Pavel/Documents/repos/machine-learning/stepik-deep-learning/16-HW-semantic-segmentation/UNet\")\n",
    "if codepath not in sys.path:\n",
    "    sys.path.append(codepath)\n",
    "\n",
    "#automatically track changes in the source code\n",
    "%load_ext autoreload\n",
    "%autoreload 2"
   ]
  },
  {
   "cell_type": "code",
   "execution_count": 6,
   "id": "097753ae",
   "metadata": {},
   "outputs": [],
   "source": [
    "from data_handling.base import BaseDataLoader\n",
    "from UNet.models.unet import UNet\n",
    "from UNet.training.base_trainer import BaseTrainer"
   ]
  },
  {
   "cell_type": "code",
   "execution_count": 11,
   "id": "5d72f44b",
   "metadata": {},
   "outputs": [
    {
     "ename": "NameError",
     "evalue": "name 'BaseDataLoader' is not defined",
     "output_type": "error",
     "traceback": [
      "\u001b[0;31m---------------------------------------------------------------------------\u001b[0m",
      "\u001b[0;31mNameError\u001b[0m                                 Traceback (most recent call last)",
      "\u001b[0;32m<ipython-input-11-02e29abceedd>\u001b[0m in \u001b[0;36m<module>\u001b[0;34m\u001b[0m\n\u001b[1;32m      1\u001b[0m \u001b[0;31m# Create the corresponding dataloader for training and validation\u001b[0m\u001b[0;34m\u001b[0m\u001b[0;34m\u001b[0m\u001b[0;34m\u001b[0m\u001b[0m\n\u001b[0;32m----> 2\u001b[0;31m data_loader = BaseDataLoader(dataset=cifar10_dataset,\n\u001b[0m\u001b[1;32m      3\u001b[0m                              \u001b[0mbatch_size\u001b[0m\u001b[0;34m=\u001b[0m\u001b[0;36m16\u001b[0m\u001b[0;34m,\u001b[0m\u001b[0;34m\u001b[0m\u001b[0;34m\u001b[0m\u001b[0m\n\u001b[1;32m      4\u001b[0m                              validation_split=0.1)\n",
      "\u001b[0;31mNameError\u001b[0m: name 'BaseDataLoader' is not defined"
     ]
    }
   ],
   "source": [
    "# Create the corresponding dataloader for training and validation\n",
    "data_loader = BaseDataLoader(dataset=cifar10_dataset,\n",
    "                             batch_size=16,\n",
    "                             validation_split=0.1)"
   ]
  },
  {
   "cell_type": "code",
   "execution_count": 4,
   "id": "9be4ec24",
   "metadata": {},
   "outputs": [],
   "source": [
    "# Define the model\n",
    "model = UNet()\n",
    "save_dir = os.getcwd()+'\\\\runs\\\\exp1'"
   ]
  },
  {
   "cell_type": "code",
   "execution_count": 9,
   "id": "e20a8aa4",
   "metadata": {},
   "outputs": [],
   "source": [
    "# Define the loss function and the optimizer\n",
    "criterion = nn.CrossEntropyLoss()\n",
    "optimizer = optim.SGD(model.parameters(), lr=0.001, momentum=0.9)"
   ]
  },
  {
   "cell_type": "code",
   "execution_count": 10,
   "id": "db38b4b1",
   "metadata": {},
   "outputs": [
    {
     "ename": "NameError",
     "evalue": "name 'data_loader' is not defined",
     "output_type": "error",
     "traceback": [
      "\u001b[0;31m---------------------------------------------------------------------------\u001b[0m",
      "\u001b[0;31mNameError\u001b[0m                                 Traceback (most recent call last)",
      "\u001b[0;32m<ipython-input-10-1e50bc81d3cb>\u001b[0m in \u001b[0;36m<module>\u001b[0;34m\u001b[0m\n\u001b[1;32m      3\u001b[0m                       \u001b[0mcriterion\u001b[0m\u001b[0;34m=\u001b[0m\u001b[0mcriterion\u001b[0m\u001b[0;34m,\u001b[0m\u001b[0;34m\u001b[0m\u001b[0;34m\u001b[0m\u001b[0m\n\u001b[1;32m      4\u001b[0m                       \u001b[0moptimizer\u001b[0m\u001b[0;34m=\u001b[0m\u001b[0moptimizer\u001b[0m\u001b[0;34m,\u001b[0m\u001b[0;34m\u001b[0m\u001b[0;34m\u001b[0m\u001b[0m\n\u001b[0;32m----> 5\u001b[0;31m                       \u001b[0mdata_loader\u001b[0m\u001b[0;34m=\u001b[0m\u001b[0mdata_loader\u001b[0m\u001b[0;34m,\u001b[0m\u001b[0;34m\u001b[0m\u001b[0;34m\u001b[0m\u001b[0m\n\u001b[0m\u001b[1;32m      6\u001b[0m                       \u001b[0mn_epochs\u001b[0m\u001b[0;34m=\u001b[0m\u001b[0;36m100\u001b[0m\u001b[0;34m,\u001b[0m\u001b[0;34m\u001b[0m\u001b[0;34m\u001b[0m\u001b[0m\n\u001b[1;32m      7\u001b[0m                       \u001b[0msave_dir\u001b[0m\u001b[0;34m=\u001b[0m\u001b[0msave_dir\u001b[0m\u001b[0;34m,\u001b[0m\u001b[0;34m\u001b[0m\u001b[0;34m\u001b[0m\u001b[0m\n",
      "\u001b[0;31mNameError\u001b[0m: name 'data_loader' is not defined"
     ]
    }
   ],
   "source": [
    "# Initialize the trainer\n",
    "trainer = BaseTrainer(model=model,\n",
    "                      criterion=criterion,\n",
    "                      optimizer=optimizer,\n",
    "                      data_loader=data_loader,\n",
    "                      n_epochs=100,\n",
    "                      save_dir=save_dir,\n",
    "                      save_model_frequency=1)"
   ]
  },
  {
   "cell_type": "code",
   "execution_count": null,
   "id": "0a7d4d7b",
   "metadata": {},
   "outputs": [],
   "source": []
  },
  {
   "cell_type": "code",
   "execution_count": 1,
   "id": "08902049",
   "metadata": {},
   "outputs": [],
   "source": [
    "# inheritance \" in an old-fashioned and unflexible way  \" - don't use it\n",
    "\n",
    "class Female_Grandparent:\n",
    "    def __init__(self):\n",
    "        self.grandma_name = 'Grandma'\n",
    "\n",
    "class Male_Grandparent:\n",
    "    def __init__(self):\n",
    "        self.grandpa_name = 'Grandpa'\n",
    "\n",
    "class Parent(Female_Grandparent, Male_Grandparent):\n",
    "    def __init__(self):\n",
    "        Female_Grandparent.__init__(self)\n",
    "        Male_Grandparent.__init__(self)\n",
    "\n",
    "        self.parent_name = 'Parent Class'\n",
    "\n",
    "class Child(Parent):\n",
    "    def __init__(self):\n",
    "        Parent.__init__(self)\n",
    "        \n",
    "        #---------------------------------------------------------------------------------------#\n",
    "        for cls in Parent.__bases__: # This block grabs the classes of the child\n",
    "             cls.__init__(self)      # class (which is named 'Parent' in this case), \n",
    "                                     # and iterates through them, initiating each one.\n",
    "                                     # The result is that each parent, of each child,\n",
    "                                     # is automatically handled upon initiation of the \n",
    "                                     # dependent class. WOOT WOOT! :D\n",
    "        #---------------------------------------------------------------------------------------#\n"
   ]
  },
  {
   "cell_type": "code",
   "execution_count": 2,
   "id": "746dd911",
   "metadata": {},
   "outputs": [
    {
     "name": "stdout",
     "output_type": "stream",
     "text": [
      "Grandma\n",
      "Grandma\n",
      "Grandma\n"
     ]
    }
   ],
   "source": [
    "g = Female_Grandparent()\n",
    "print (g.grandma_name)\n",
    "\n",
    "p = Parent()\n",
    "print (p.grandma_name)\n",
    "\n",
    "child = Child()\n",
    "\n",
    "print (child.grandma_name)"
   ]
  },
  {
   "cell_type": "code",
   "execution_count": 3,
   "id": "35789da1",
   "metadata": {},
   "outputs": [],
   "source": [
    "# comparison of inheritance whilst using super and not using super\n",
    "\n",
    "class SomeBaseClass(object):\n",
    "    def __init__(self):\n",
    "        print('SomeBaseClass.__init__(self) called')\n",
    "    \n",
    "class UnsuperChild(SomeBaseClass):\n",
    "    def __init__(self):\n",
    "        print('UnsuperChild.__init__(self) called')\n",
    "        SomeBaseClass.__init__(self)\n",
    "    \n",
    "class SuperChild(SomeBaseClass):\n",
    "    def __init__(self):\n",
    "        print('SuperChild.__init__(self) called')\n",
    "        super().__init__()\n"
   ]
  },
  {
   "cell_type": "code",
   "execution_count": 4,
   "id": "ec73e0e0",
   "metadata": {},
   "outputs": [],
   "source": [
    "# add another class iheriting from the base class\n",
    "class InjectMe(SomeBaseClass):\n",
    "    def __init__(self):\n",
    "        print('InjectMe.__init__(self) called')\n",
    "        super().__init__()\n",
    "\n",
    "        \n",
    "# Now you want to have a class  inheriting from the newly created InjectMe and the UnsuperChild\n",
    "# Both inherit from the Base class\n",
    "# InjectMe uses super, but UnsuperChild hard-codes the inheritance from the BaseCLass\n",
    "class UnsuperInjector(UnsuperChild, InjectMe): pass\n",
    "\n",
    "# Now you want to have a class  inheriting from the newly created InjectMe and the SuperChild\n",
    "# Both inherit from the Base class\n",
    "# Both InjectMe and SuperChild use super to inherit from the BaseCLass\n",
    "class SuperInjector(SuperChild, InjectMe): pass"
   ]
  },
  {
   "cell_type": "code",
   "execution_count": 5,
   "id": "dfa5bc61",
   "metadata": {},
   "outputs": [
    {
     "name": "stdout",
     "output_type": "stream",
     "text": [
      "UnsuperChild.__init__(self) called\n",
      "SomeBaseClass.__init__(self) called\n"
     ]
    }
   ],
   "source": [
    "# Using the un-super child fails to inject the dependency \n",
    "# because the child you're using has hard-coded the method to be called after its own:\n",
    "o = UnsuperInjector()"
   ]
  },
  {
   "cell_type": "code",
   "execution_count": 6,
   "id": "92ce4beb",
   "metadata": {},
   "outputs": [
    {
     "name": "stdout",
     "output_type": "stream",
     "text": [
      "SuperChild.__init__(self) called\n",
      "InjectMe.__init__(self) called\n",
      "SomeBaseClass.__init__(self) called\n"
     ]
    }
   ],
   "source": [
    "# However, the class with the child that uses super can correctly inject the dependency:\n",
    "o2 = SuperInjector()"
   ]
  },
  {
   "cell_type": "markdown",
   "id": "ea44b362",
   "metadata": {},
   "source": [
    "# tests "
   ]
  },
  {
   "cell_type": "code",
   "execution_count": 8,
   "id": "5197fdb7",
   "metadata": {},
   "outputs": [],
   "source": [
    "import torch\n",
    "import torchvision\n",
    "import torch.nn as nn\n",
    "\n",
    "\n",
    "#from UNet.models.base import BaseNet\n",
    "\n",
    "\n",
    "class UNet:\n",
    "    def __init__(self):\n",
    "        super().__init__()\n",
    "        # encoder (downsampling)\n",
    "        # Each enc_conv/dec_conv block should look like this:\n",
    "        # nn.Sequential(\n",
    "        #     nn.Conv2d(...),\n",
    "        #     ... (2 or 3 conv layers with relu and batchnorm),\n",
    "        # )\n",
    "        ##################\n",
    "        # encoder layer 0\n",
    "        #################\n",
    "        # 3, 572, 572\n",
    "        self.e0_conv = nn.Sequential(\n",
    "            nn.Conv2d(3, 64, kernel_size=3),\n",
    "            # 64, 570, 570\n",
    "            nn.Conv2d(64, 64, kernel_size=3),\n",
    "            # 64, 568, 568\n",
    "            nn.BatchNorm2d(64),\n",
    "            nn.ReLU()\n",
    "                    )"
   ]
  },
  {
   "cell_type": "code",
   "execution_count": null,
   "id": "e521df83",
   "metadata": {},
   "outputs": [],
   "source": [
    "nn.Conv2d()"
   ]
  }
 ],
 "metadata": {
  "kernelspec": {
   "display_name": "Python 3",
   "language": "python",
   "name": "python3"
  },
  "language_info": {
   "codemirror_mode": {
    "name": "ipython",
    "version": 3
   },
   "file_extension": ".py",
   "mimetype": "text/x-python",
   "name": "python",
   "nbconvert_exporter": "python",
   "pygments_lexer": "ipython3",
   "version": "3.6.13"
  }
 },
 "nbformat": 4,
 "nbformat_minor": 5
}
