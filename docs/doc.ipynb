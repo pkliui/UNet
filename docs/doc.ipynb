{
 "cells": [
  {
   "cell_type": "code",
   "execution_count": 7,
   "id": "3e01cbbf",
   "metadata": {},
   "outputs": [],
   "source": [
    "#import packages\n",
    "import sys\n",
    "import glob, os, fnmatch\n",
    "\n",
    "import torch.nn as nn\n",
    "import torch.optim as optim\n",
    "from torchvision import transforms\n",
    "\n",
    "# set source path\n",
    "codepath = os.path.abspath(\"/Users/Pavel/Documents/repos/UNet/\")\n",
    "if codepath not in sys.path:\n",
    "    sys.path.append(codepath)\n",
    "\n",
    "datapath = os.path.abspath(\"/Users/Pavel/Documents/repos/UNet/docs/data/cifar/\")\n",
    "\n",
    "#automatically track changes in the source code\n",
    "%load_ext autoreload\n",
    "%autoreload 2"
   ]
  },
  {
   "cell_type": "code",
   "execution_count": 8,
   "id": "097753ae",
   "metadata": {},
   "outputs": [],
   "source": [
    "from UNet.data_handling.base import BaseDataLoader \n",
    "from UNet.models.unet import UNet\n",
    "from UNet.training.base_trainer import BaseTrainer\n",
    "from UNet.data_handling.unetdataset import UNetDataset\n",
    "from UNet.classes.preprocess import Resize"
   ]
  },
  {
   "cell_type": "code",
   "execution_count": 9,
   "id": "e836e2d4",
   "metadata": {},
   "outputs": [],
   "source": [
    "SIZE_X = (572, 572) # size of input images\n",
    "SIZE_Y = (388, 388) # size of input segmented images\n",
    "\n",
    "LEARNING_RATE = 5e-3 # learning rate"
   ]
  },
  {
   "cell_type": "code",
   "execution_count": 10,
   "id": "785a2ce8",
   "metadata": {},
   "outputs": [],
   "source": [
    "unet_dataset = UNetDataset(\n",
    "    root_dir=\"/Users/Pavel/Documents/repos/UNet/docs/data/PH2_Dataset_images/\",\n",
    "    images_folder=\"images\",\n",
    "    masks_folder=\"masks\", \n",
    "    extension=\"*.bmp\", \n",
    "    transform=transforms.Compose([Resize(SIZE_X, SIZE_Y)]))"
   ]
  },
  {
   "cell_type": "code",
   "execution_count": 11,
   "id": "ec26e8cb",
   "metadata": {},
   "outputs": [
    {
     "data": {
      "text/plain": [
       "array(['IMD002 copy 19.bmp', 'IMD002 copy 31.bmp', 'IMD002 copy 25.bmp',\n",
       "       'IMD002 copy 9.bmp', 'IMD002 copy 8.bmp', 'IMD002 copy 24.bmp',\n",
       "       'IMD002 copy 30.bmp', 'IMD002 copy 18.bmp', 'IMD002 copy 26.bmp',\n",
       "       'IMD002 copy 32.bmp', 'IMD002 copy 33.bmp', 'IMD002 copy 27.bmp',\n",
       "       'IMD002 copy 23.bmp', 'IMD002 copy 37.bmp', 'IMD002 copy 36.bmp',\n",
       "       'IMD002 copy 22.bmp', 'IMD002 copy 34.bmp', 'IMD002 copy 20.bmp',\n",
       "       'IMD002 copy 21.bmp', 'IMD002 copy 35.bmp', 'IMD002 copy.bmp',\n",
       "       'IMD002.bmp', 'IMD002 copy 38.bmp', 'IMD002 copy 10.bmp',\n",
       "       'IMD002 copy 11.bmp', 'IMD002 copy 39.bmp', 'IMD002 copy 13.bmp',\n",
       "       'IMD002 copy 3.bmp', 'IMD002 copy 2.bmp', 'IMD002 copy 12.bmp',\n",
       "       'IMD002 copy 16.bmp', 'IMD002 copy 6.bmp', 'IMD002 copy 7.bmp',\n",
       "       'IMD002 copy 17.bmp', 'IMD002 copy 15.bmp', 'IMD002 copy 29.bmp',\n",
       "       'IMD002 copy 5.bmp', 'IMD002 copy 4.bmp', 'IMD002 copy 28.bmp',\n",
       "       'IMD002 copy 14.bmp'], dtype='<U18')"
      ]
     },
     "execution_count": 11,
     "metadata": {},
     "output_type": "execute_result"
    }
   ],
   "source": [
    "unet_dataset.images_list"
   ]
  },
  {
   "cell_type": "code",
   "execution_count": 12,
   "id": "5d72f44b",
   "metadata": {},
   "outputs": [
    {
     "name": "stdout",
     "output_type": "stream",
     "text": [
      "validation split =  0.1\n",
      "int(len(dataset) - split) 36\n",
      "split 4\n",
      "preparing train and val loaders ... \n"
     ]
    }
   ],
   "source": [
    "# Create the corresponding dataloader for training and validation\n",
    "data_loader = BaseDataLoader(dataset=unet_dataset,\n",
    "                             batch_size=4,\n",
    "                             validation_split=0.1\n",
    "                            )"
   ]
  },
  {
   "cell_type": "code",
   "execution_count": 13,
   "id": "5d4c30e3-5f85-45ef-a631-c2d728d55fbe",
   "metadata": {},
   "outputs": [
    {
     "name": "stdout",
     "output_type": "stream",
     "text": [
      "torch.Size([4, 572, 572, 3])\n",
      "torch.Size([4, 388, 388])\n"
     ]
    }
   ],
   "source": [
    "\n",
    "\n",
    "\n",
    "data, targets = next(iter(data_loader.train_loader))\n",
    "\n",
    "# Inspect the data\n",
    "print(data.shape)      # torch.Size([64, 1, 28, 28])\n",
    "print(targets.shape)  "
   ]
  },
  {
   "cell_type": "code",
   "execution_count": 14,
   "id": "9be4ec24",
   "metadata": {},
   "outputs": [],
   "source": [
    "# Define the model\n",
    "unet_model = UNet()\n",
    "save_dir = os.getcwd()+'/runs/exp1'"
   ]
  },
  {
   "cell_type": "code",
   "execution_count": 15,
   "id": "e20a8aa4",
   "metadata": {},
   "outputs": [],
   "source": [
    "# Define the loss function and the optimizer\n",
    "bce_loss = nn.BCEWithLogitsLoss()\n",
    "unet_optimizer = optim.AdamW(unet_model.parameters(), lr=LEARNING_RATE)"
   ]
  },
  {
   "cell_type": "code",
   "execution_count": 16,
   "id": "db38b4b1",
   "metadata": {},
   "outputs": [],
   "source": [
    "# Initialize the trainer\n",
    "trainer = BaseTrainer(model = unet_model,\n",
    "                      criterion = bce_loss,\n",
    "                      optimizer = unet_optimizer,\n",
    "                      data_loader = data_loader,\n",
    "                      epochs=100)"
   ]
  },
  {
   "cell_type": "code",
   "execution_count": 17,
   "id": "11a584da-2a5a-405c-829c-e1932cfe252b",
   "metadata": {},
   "outputs": [
    {
     "data": {
      "text/plain": [
       "<torch.utils.data.dataloader.DataLoader at 0x7fb05d9f8b70>"
      ]
     },
     "execution_count": 17,
     "metadata": {},
     "output_type": "execute_result"
    }
   ],
   "source": [
    "trainer.val_loader"
   ]
  },
  {
   "cell_type": "code",
   "execution_count": 18,
   "id": "0a7d4d7b",
   "metadata": {},
   "outputs": [
    {
     "name": "stdout",
     "output_type": "stream",
     "text": [
      "* Epoch 1/100\n",
      "training step ... \n",
      "avg train loss tensor(0.4891, grad_fn=<DivBackward0>)\n"
     ]
    },
    {
     "ename": "TypeError",
     "evalue": "'NoneType' object is not callable",
     "output_type": "error",
     "traceback": [
      "\u001b[0;31m---------------------------------------------------------------------------\u001b[0m",
      "\u001b[0;31mTypeError\u001b[0m                                 Traceback (most recent call last)",
      "\u001b[0;32m<ipython-input-18-635967aca760>\u001b[0m in \u001b[0;36m<module>\u001b[0;34m\u001b[0m\n\u001b[1;32m      1\u001b[0m \u001b[0;31m# Start training\u001b[0m\u001b[0;34m\u001b[0m\u001b[0;34m\u001b[0m\u001b[0;34m\u001b[0m\u001b[0m\n\u001b[0;32m----> 2\u001b[0;31m \u001b[0mtrainer\u001b[0m\u001b[0;34m.\u001b[0m\u001b[0mtrain\u001b[0m\u001b[0;34m(\u001b[0m\u001b[0;34m)\u001b[0m\u001b[0;34m\u001b[0m\u001b[0;34m\u001b[0m\u001b[0m\n\u001b[0m",
      "\u001b[0;32m~/Documents/repos/UNet/UNet/training/base_trainer.py\u001b[0m in \u001b[0;36mtrain\u001b[0;34m(self)\u001b[0m\n\u001b[1;32m     92\u001b[0m             \u001b[0;31m# make a validation step\u001b[0m\u001b[0;34m\u001b[0m\u001b[0;34m\u001b[0m\u001b[0;34m\u001b[0m\u001b[0m\n\u001b[1;32m     93\u001b[0m             \u001b[0;32mif\u001b[0m \u001b[0mself\u001b[0m\u001b[0;34m.\u001b[0m\u001b[0mvalidate\u001b[0m\u001b[0;34m:\u001b[0m\u001b[0;34m\u001b[0m\u001b[0;34m\u001b[0m\u001b[0m\n\u001b[0;32m---> 94\u001b[0;31m                 \u001b[0mavg_val_loss\u001b[0m\u001b[0;34m,\u001b[0m \u001b[0mavg_score\u001b[0m \u001b[0;34m=\u001b[0m \u001b[0mself\u001b[0m\u001b[0;34m.\u001b[0m\u001b[0mvalidation_step\u001b[0m\u001b[0;34m(\u001b[0m\u001b[0;34m)\u001b[0m\u001b[0;34m\u001b[0m\u001b[0;34m\u001b[0m\u001b[0m\n\u001b[0m\u001b[1;32m     95\u001b[0m                 \u001b[0;32mif\u001b[0m \u001b[0mself\u001b[0m\u001b[0;34m.\u001b[0m\u001b[0mdevice\u001b[0m \u001b[0;32mis\u001b[0m \u001b[0;32mnot\u001b[0m \u001b[0;32mNone\u001b[0m\u001b[0;34m:\u001b[0m\u001b[0;34m\u001b[0m\u001b[0;34m\u001b[0m\u001b[0m\n\u001b[1;32m     96\u001b[0m                     \u001b[0mavg_val_loss\u001b[0m \u001b[0;34m=\u001b[0m \u001b[0mavg_val_loss\u001b[0m\u001b[0;34m.\u001b[0m\u001b[0mdetach\u001b[0m\u001b[0;34m(\u001b[0m\u001b[0;34m)\u001b[0m\u001b[0;34m.\u001b[0m\u001b[0mcpu\u001b[0m\u001b[0;34m(\u001b[0m\u001b[0;34m)\u001b[0m\u001b[0;34m.\u001b[0m\u001b[0mnumpy\u001b[0m\u001b[0;34m(\u001b[0m\u001b[0;34m)\u001b[0m\u001b[0;34m\u001b[0m\u001b[0;34m\u001b[0m\u001b[0m\n",
      "\u001b[0;32m~/Documents/repos/UNet/UNet/training/base_trainer.py\u001b[0m in \u001b[0;36mvalidation_step\u001b[0;34m(self)\u001b[0m\n\u001b[1;32m    228\u001b[0m                 \u001b[0;31m#if self.device is not None:\u001b[0m\u001b[0;34m\u001b[0m\u001b[0;34m\u001b[0m\u001b[0;34m\u001b[0m\u001b[0m\n\u001b[1;32m    229\u001b[0m                 \u001b[0;31m#score += self.metric(Y_hat, Y_val).mean()\u001b[0m\u001b[0;34m\u001b[0m\u001b[0;34m\u001b[0m\u001b[0;34m\u001b[0m\u001b[0m\n\u001b[0;32m--> 230\u001b[0;31m                 \u001b[0mscore\u001b[0m \u001b[0;34m+=\u001b[0m \u001b[0mself\u001b[0m\u001b[0;34m.\u001b[0m\u001b[0mmetric\u001b[0m\u001b[0;34m(\u001b[0m\u001b[0mY_hat_2plot\u001b[0m\u001b[0;34m.\u001b[0m\u001b[0mto\u001b[0m\u001b[0;34m(\u001b[0m\u001b[0mself\u001b[0m\u001b[0;34m.\u001b[0m\u001b[0mdevice\u001b[0m\u001b[0;34m)\u001b[0m\u001b[0;34m,\u001b[0m \u001b[0mY_val\u001b[0m\u001b[0;34m.\u001b[0m\u001b[0mto\u001b[0m\u001b[0;34m(\u001b[0m\u001b[0mself\u001b[0m\u001b[0;34m.\u001b[0m\u001b[0mdevice\u001b[0m\u001b[0;34m)\u001b[0m\u001b[0;34m)\u001b[0m\u001b[0;34m.\u001b[0m\u001b[0mmean\u001b[0m\u001b[0;34m(\u001b[0m\u001b[0;34m)\u001b[0m\u001b[0;34m\u001b[0m\u001b[0;34m\u001b[0m\u001b[0m\n\u001b[0m\u001b[1;32m    231\u001b[0m \u001b[0;34m\u001b[0m\u001b[0m\n\u001b[1;32m    232\u001b[0m             \u001b[0;31m#score += self.metric(Y_hat_2plot.to(self.device), Y_val.to(self.device)).mean()\u001b[0m\u001b[0;34m\u001b[0m\u001b[0;34m\u001b[0m\u001b[0;34m\u001b[0m\u001b[0m\n",
      "\u001b[0;31mTypeError\u001b[0m: 'NoneType' object is not callable"
     ]
    }
   ],
   "source": [
    "# Start training\n",
    "trainer.train()"
   ]
  },
  {
   "cell_type": "code",
   "execution_count": 5,
   "id": "08902049",
   "metadata": {},
   "outputs": [],
   "source": [
    "# inheritance \" in an old-fashioned and unflexible way  \" - don't use it\n",
    "\n",
    "class Female_Grandparent:\n",
    "    def __init__(self):\n",
    "        self.grandma_name = 'Grandma'\n",
    "\n",
    "class Male_Grandparent:\n",
    "    def __init__(self):\n",
    "        self.grandpa_name = 'Grandpa'\n",
    "\n",
    "class Parent(Female_Grandparent, Male_Grandparent):\n",
    "    def __init__(self):\n",
    "        Female_Grandparent.__init__(self)\n",
    "        Male_Grandparent.__init__(self)\n",
    "\n",
    "        self.parent_name = 'Parent Class'\n",
    "\n",
    "class Child(Parent):\n",
    "    def __init__(self):\n",
    "        Parent.__init__(self)\n",
    "        \n",
    "        #---------------------------------------------------------------------------------------#\n",
    "        for cls in Parent.__bases__: # This block grabs the classes of the child\n",
    "             cls.__init__(self)      # class (which is named 'Parent' in this case), \n",
    "                                     # and iterates through them, initiating each one.\n",
    "                                     # The result is that each parent, of each child,\n",
    "                                     # is automatically handled upon initiation of the \n",
    "                                     # dependent class. WOOT WOOT! :D\n",
    "        #---------------------------------------------------------------------------------------#\n"
   ]
  },
  {
   "cell_type": "code",
   "execution_count": 6,
   "id": "746dd911",
   "metadata": {},
   "outputs": [
    {
     "name": "stdout",
     "output_type": "stream",
     "text": [
      "Grandma\n",
      "Grandma\n",
      "Grandma\n"
     ]
    }
   ],
   "source": [
    "g = Female_Grandparent()\n",
    "print (g.grandma_name)\n",
    "\n",
    "p = Parent()\n",
    "print (p.grandma_name)\n",
    "\n",
    "child = Child()\n",
    "\n",
    "print (child.grandma_name)"
   ]
  },
  {
   "cell_type": "code",
   "execution_count": 1,
   "id": "35789da1",
   "metadata": {},
   "outputs": [],
   "source": [
    "# comparison of inheritance whilst using super and not using super\n",
    "\n",
    "class SomeBaseClass(object):\n",
    "    def __init__(self):\n",
    "        print('SomeBaseClass.__init__(self) called')\n",
    "    \n",
    "class UnsuperChild(SomeBaseClass):\n",
    "    def __init__(self):\n",
    "        print('UnsuperChild.__init__(self) called')\n",
    "        SomeBaseClass.__init__(self)\n",
    "    \n",
    "class SuperChild(SomeBaseClass):\n",
    "    def __init__(self):\n",
    "        print('SuperChild.__init__(self) called')\n",
    "        super().__init__()\n"
   ]
  },
  {
   "cell_type": "code",
   "execution_count": 2,
   "id": "ec73e0e0",
   "metadata": {},
   "outputs": [],
   "source": [
    "# add another class iheriting from the base class\n",
    "class InjectMe(SomeBaseClass):\n",
    "    def __init__(self):\n",
    "        print('InjectMe.__init__(self) called')\n",
    "        super().__init__()\n",
    "\n",
    "        \n",
    "# Now you want to have a class  inheriting from the newly created InjectMe and the UnsuperChild\n",
    "# Both inherit from the Base class\n",
    "# InjectMe uses super, but UnsuperChild hard-codes the inheritance from the BaseCLass\n",
    "class UnsuperInjector(UnsuperChild, InjectMe): pass\n",
    "\n",
    "# Now you want to have a class  inheriting from the newly created InjectMe and the SuperChild\n",
    "# Both inherit from the Base class\n",
    "# Both InjectMe and SuperChild use super to inherit from the BaseCLass\n",
    "class SuperInjector(SuperChild, InjectMe): pass"
   ]
  },
  {
   "cell_type": "code",
   "execution_count": 3,
   "id": "dfa5bc61",
   "metadata": {},
   "outputs": [
    {
     "name": "stdout",
     "output_type": "stream",
     "text": [
      "UnsuperChild.__init__(self) called\n",
      "SomeBaseClass.__init__(self) called\n"
     ]
    }
   ],
   "source": [
    "# Using the un-super child fails to inject the dependency \n",
    "# because the child you're using has hard-coded the method to be called after its own:\n",
    "o = UnsuperInjector()"
   ]
  },
  {
   "cell_type": "code",
   "execution_count": 4,
   "id": "92ce4beb",
   "metadata": {},
   "outputs": [
    {
     "name": "stdout",
     "output_type": "stream",
     "text": [
      "SuperChild.__init__(self) called\n",
      "InjectMe.__init__(self) called\n",
      "SomeBaseClass.__init__(self) called\n"
     ]
    }
   ],
   "source": [
    "# However, the class with the child that uses super can correctly inject the dependency:\n",
    "o2 = SuperInjector()"
   ]
  },
  {
   "cell_type": "code",
   "execution_count": null,
   "id": "0044fae6",
   "metadata": {},
   "outputs": [],
   "source": []
  }
 ],
 "metadata": {
  "kernelspec": {
   "display_name": "Python 3",
   "language": "python",
   "name": "python3"
  },
  "language_info": {
   "codemirror_mode": {
    "name": "ipython",
    "version": 3
   },
   "file_extension": ".py",
   "mimetype": "text/x-python",
   "name": "python",
   "nbconvert_exporter": "python",
   "pygments_lexer": "ipython3",
   "version": "3.6.13"
  }
 },
 "nbformat": 4,
 "nbformat_minor": 5
}
